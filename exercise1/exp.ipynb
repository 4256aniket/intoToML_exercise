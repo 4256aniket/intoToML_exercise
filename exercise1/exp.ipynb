{
 "cells": [
  {
   "cell_type": "code",
   "execution_count": 2,
   "id": "769e9729",
   "metadata": {},
   "outputs": [],
   "source": [
    "import numpy as np"
   ]
  },
  {
   "cell_type": "code",
   "execution_count": 3,
   "id": "496a2d63",
   "metadata": {},
   "outputs": [
    {
     "data": {
      "text/plain": [
       "array([[-1.28185435,  0.88155073],\n",
       "       [ 0.83439237, -1.16317793]])"
      ]
     },
     "execution_count": 3,
     "metadata": {},
     "output_type": "execute_result"
    }
   ],
   "source": [
    "np.random.normal(0,1,(2,2))"
   ]
  },
  {
   "cell_type": "code",
   "execution_count": 4,
   "id": "daff5d59",
   "metadata": {},
   "outputs": [
    {
     "name": "stdout",
     "output_type": "stream",
     "text": [
      "\u001b[0;31mSignature:\u001b[0m       \u001b[0mnp\u001b[0m\u001b[0;34m.\u001b[0m\u001b[0mclip\u001b[0m\u001b[0;34m(\u001b[0m\u001b[0ma\u001b[0m\u001b[0;34m,\u001b[0m \u001b[0ma_min\u001b[0m\u001b[0;34m,\u001b[0m \u001b[0ma_max\u001b[0m\u001b[0;34m,\u001b[0m \u001b[0mout\u001b[0m\u001b[0;34m=\u001b[0m\u001b[0;32mNone\u001b[0m\u001b[0;34m,\u001b[0m \u001b[0;34m**\u001b[0m\u001b[0mkwargs\u001b[0m\u001b[0;34m)\u001b[0m\u001b[0;34m\u001b[0m\u001b[0;34m\u001b[0m\u001b[0m\n",
      "\u001b[0;31mCall signature:\u001b[0m  \u001b[0mnp\u001b[0m\u001b[0;34m.\u001b[0m\u001b[0mclip\u001b[0m\u001b[0;34m(\u001b[0m\u001b[0;34m*\u001b[0m\u001b[0margs\u001b[0m\u001b[0;34m,\u001b[0m \u001b[0;34m**\u001b[0m\u001b[0mkwargs\u001b[0m\u001b[0;34m)\u001b[0m\u001b[0;34m\u001b[0m\u001b[0;34m\u001b[0m\u001b[0m\n",
      "\u001b[0;31mType:\u001b[0m            _ArrayFunctionDispatcher\n",
      "\u001b[0;31mString form:\u001b[0m     <function clip at 0x11c1cd580>\n",
      "\u001b[0;31mFile:\u001b[0m            /opt/anaconda3/envs/ds/lib/python3.12/site-packages/numpy/core/fromnumeric.py\n",
      "\u001b[0;31mDocstring:\u001b[0m      \n",
      "Clip (limit) the values in an array.\n",
      "\n",
      "Given an interval, values outside the interval are clipped to\n",
      "the interval edges.  For example, if an interval of ``[0, 1]``\n",
      "is specified, values smaller than 0 become 0, and values larger\n",
      "than 1 become 1.\n",
      "\n",
      "Equivalent to but faster than ``np.minimum(a_max, np.maximum(a, a_min))``.\n",
      "\n",
      "No check is performed to ensure ``a_min < a_max``.\n",
      "\n",
      "Parameters\n",
      "----------\n",
      "a : array_like\n",
      "    Array containing elements to clip.\n",
      "a_min, a_max : array_like or None\n",
      "    Minimum and maximum value. If ``None``, clipping is not performed on\n",
      "    the corresponding edge. Only one of `a_min` and `a_max` may be\n",
      "    ``None``. Both are broadcast against `a`.\n",
      "out : ndarray, optional\n",
      "    The results will be placed in this array. It may be the input\n",
      "    array for in-place clipping.  `out` must be of the right shape\n",
      "    to hold the output.  Its type is preserved.\n",
      "**kwargs\n",
      "    For other keyword-only arguments, see the\n",
      "    :ref:`ufunc docs <ufuncs.kwargs>`.\n",
      "\n",
      "    .. versionadded:: 1.17.0\n",
      "\n",
      "Returns\n",
      "-------\n",
      "clipped_array : ndarray\n",
      "    An array with the elements of `a`, but where values\n",
      "    < `a_min` are replaced with `a_min`, and those > `a_max`\n",
      "    with `a_max`.\n",
      "\n",
      "See Also\n",
      "--------\n",
      ":ref:`ufuncs-output-type`\n",
      "\n",
      "Notes\n",
      "-----\n",
      "When `a_min` is greater than `a_max`, `clip` returns an\n",
      "array in which all values are equal to `a_max`,\n",
      "as shown in the second example.\n",
      "\n",
      "Examples\n",
      "--------\n",
      ">>> a = np.arange(10)\n",
      ">>> a\n",
      "array([0, 1, 2, 3, 4, 5, 6, 7, 8, 9])\n",
      ">>> np.clip(a, 1, 8)\n",
      "array([1, 1, 2, 3, 4, 5, 6, 7, 8, 8])\n",
      ">>> np.clip(a, 8, 1)\n",
      "array([1, 1, 1, 1, 1, 1, 1, 1, 1, 1])\n",
      ">>> np.clip(a, 3, 6, out=a)\n",
      "array([3, 3, 3, 3, 4, 5, 6, 6, 6, 6])\n",
      ">>> a\n",
      "array([3, 3, 3, 3, 4, 5, 6, 6, 6, 6])\n",
      ">>> a = np.arange(10)\n",
      ">>> a\n",
      "array([0, 1, 2, 3, 4, 5, 6, 7, 8, 9])\n",
      ">>> np.clip(a, [3, 4, 1, 1, 1, 4, 4, 4, 4, 4], 8)\n",
      "array([3, 4, 2, 3, 4, 5, 6, 7, 8, 8])\n",
      "\u001b[0;31mClass docstring:\u001b[0m\n",
      "Class to wrap functions with checks for __array_function__ overrides.\n",
      "\n",
      "All arguments are required, and can only be passed by position.\n",
      "\n",
      "Parameters\n",
      "----------\n",
      "dispatcher : function or None\n",
      "    The dispatcher function that returns a single sequence-like object\n",
      "    of all arguments relevant.  It must have the same signature (except\n",
      "    the default values) as the actual implementation.\n",
      "    If ``None``, this is a ``like=`` dispatcher and the\n",
      "    ``_ArrayFunctionDispatcher`` must be called with ``like`` as the\n",
      "    first (additional and positional) argument.\n",
      "implementation : function\n",
      "    Function that implements the operation on NumPy arrays without\n",
      "    overrides.  Arguments passed calling the ``_ArrayFunctionDispatcher``\n",
      "    will be forwarded to this (and the ``dispatcher``) as if using\n",
      "    ``*args, **kwargs``.\n",
      "\n",
      "Attributes\n",
      "----------\n",
      "_implementation : function\n",
      "    The original implementation passed in."
     ]
    }
   ],
   "source": [
    "np.clip?"
   ]
  },
  {
   "cell_type": "code",
   "execution_count": null,
   "id": "d7cc9fb4",
   "metadata": {},
   "outputs": [],
   "source": []
  }
 ],
 "metadata": {
  "kernelspec": {
   "display_name": "ds",
   "language": "python",
   "name": "python3"
  },
  "language_info": {
   "codemirror_mode": {
    "name": "ipython",
    "version": 3
   },
   "file_extension": ".py",
   "mimetype": "text/x-python",
   "name": "python",
   "nbconvert_exporter": "python",
   "pygments_lexer": "ipython3",
   "version": "3.12.7"
  }
 },
 "nbformat": 4,
 "nbformat_minor": 5
}
